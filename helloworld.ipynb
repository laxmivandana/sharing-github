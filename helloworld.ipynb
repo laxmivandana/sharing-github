{
  "nbformat": 4,
  "nbformat_minor": 0,
  "metadata": {
    "colab": {
      "name": "helloworld.ipynb",
      "provenance": [],
      "collapsed_sections": []
    },
    "kernelspec": {
      "name": "python3",
      "display_name": "Python 3"
    }
  },
  "cells": [
    {
      "cell_type": "code",
      "metadata": {
        "id": "yShnUievYDDr",
        "colab_type": "code",
        "colab": {}
      },
      "source": [
        ""
      ],
      "execution_count": null,
      "outputs": []
    },
    {
      "cell_type": "code",
      "metadata": {
        "id": "zwt5q4z_YFi0",
        "colab_type": "code",
        "colab": {}
      },
      "source": [
        "print('hello world')"
      ],
      "execution_count": null,
      "outputs": []
    }
  ]
}